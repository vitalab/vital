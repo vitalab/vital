{
 "cells": [
  {
   "cell_type": "code",
   "execution_count": null,
   "metadata": {
    "jupyter": {
     "outputs_hidden": false
    },
    "pycharm": {
     "name": "#%%\n"
    }
   },
   "outputs": [],
   "source": [
    "from pathlib import Path\n",
    "from typing import Tuple\n",
    "\n",
    "import numpy as np\n",
    "import PIL\n",
    "import SimpleITK\n",
    "from PIL.Image import Resampling"
   ]
  },
  {
   "cell_type": "code",
   "execution_count": null,
   "metadata": {
    "jupyter": {
     "outputs_hidden": false
    },
    "pycharm": {
     "name": "#%%\n"
    }
   },
   "outputs": [],
   "source": [
    "###########################################\n",
    "# PARAMETERS TO PLAY WITH\n",
    "\n",
    "# Select the patient identification (scalar value between 1 and 98)\n",
    "patient_id = 1"
   ]
  },
  {
   "cell_type": "code",
   "execution_count": null,
   "metadata": {
    "jupyter": {
     "outputs_hidden": false
    },
    "pycharm": {
     "name": "#%%\n"
    }
   },
   "outputs": [],
   "source": [
    "###########################################\n",
    "# Definition of useful functions\n",
    "\n",
    "def load_mhd(filepath: Path) -> Tuple[np.ndarray, Tuple[float, float]]:\n",
    "    \"\"\"Loads a mhd image and returns the image and its metadata.\n",
    "\n",
    "    Args:\n",
    "        filepath: Path to the image.\n",
    "\n",
    "    Returns:\n",
    "        - ([N], H, W), Image array.\n",
    "        - (dH,dW), Size of the voxels along the (height, width) dimension (in mm).\n",
    "    \"\"\"\n",
    "    # load image and save info\n",
    "    image = SimpleITK.ReadImage(str(filepath))\n",
    "    info = (image.GetSize(), image.GetOrigin(), image.GetSpacing(), image.GetDirection())\n",
    "\n",
    "    # create numpy array from the .mhd file and corresponding image\n",
    "    im_array = np.squeeze(SimpleITK.GetArrayFromImage(image))\n",
    "\n",
    "    # extract voxelspacing from image metadata\n",
    "    info = [item for sublist in info for item in sublist]\n",
    "    voxelspacing = info[6:8][::-1]\n",
    "\n",
    "    return im_array, voxelspacing"
   ]
  },
  {
   "cell_type": "code",
   "execution_count": null,
   "metadata": {
    "pycharm": {
     "name": "#%%\n"
    }
   },
   "outputs": [],
   "source": [
    "def resize_image(image: np.ndarray, size: Tuple[int, int], resample: Resampling = Resampling.NEAREST) -> np.ndarray:\n",
    "    \"\"\"Resizes the image to the specified dimensions.\n",
    "\n",
    "    Args:\n",
    "        image: Input image to process. Must be in a format supported by PIL.\n",
    "        size: Width and height dimensions of the processed image to output.\n",
    "        resample: Resampling filter to use.\n",
    "\n",
    "    Returns:\n",
    "        Input image resized to the specified dimensions.\n",
    "    \"\"\"\n",
    "    resized_image = np.array(PIL.Image.fromarray(image).resize(size, resample=resample))\n",
    "    return resized_image"
   ]
  },
  {
   "cell_type": "code",
   "execution_count": null,
   "metadata": {
    "pycharm": {
     "name": "#%%\n"
    }
   },
   "outputs": [],
   "source": [
    "def resize_image_to_isotropic(image: np.ndarray, spacing: Tuple[float, float]) -> np.ndarray:\n",
    "    \"\"\"Resizes an image to have isotropic spacing by downscaling the height.\n",
    "\n",
    "    Args:\n",
    "        image: (H, W), Image array.\n",
    "        spacing: (dH, dW) Anistropic spacing.\n",
    "\n",
    "    Returns:\n",
    "        Image, downsampled on the height dimension, with isotropic spacing.\n",
    "    \"\"\"\n",
    "    real_aspect = (image.shape[0] * spacing[0]) / (image.shape[1] * spacing[1])\n",
    "    current_aspect = (image.shape[0]) / (image.shape[1])\n",
    "    new_height = int(image.shape[0] * (real_aspect / current_aspect))\n",
    "    new_width = image.shape[1]\n",
    "    return resize_image(image, (new_width, new_height))"
   ]
  },
  {
   "cell_type": "code",
   "execution_count": null,
   "metadata": {
    "jupyter": {
     "outputs_hidden": false
    },
    "pycharm": {
     "name": "#%%\n"
    }
   },
   "outputs": [],
   "source": [
    "# Specify the ultrasound/segmentation pair to be loaded\n",
    "patient_name = f\"patient{patient_id:03d}\"\n",
    "patient_dir = Path(f\"database/{patient_name}\")\n",
    "path_to_bmode_images = patient_dir / f\"{patient_name}_4CH_sequence.mhd\"\n",
    "path_to_gt_segmentations = patient_dir / f\"{patient_name}_4CH_sequence_gt.mhd\"\n",
    "print(f\"Loading data from patient folder: {patient_dir}\")\n",
    "\n",
    "# Call of a specific function that reads the .mhd files and gives access to the corresponding images and metadata\n",
    "bmode, voxelspacing = load_mhd(path_to_bmode_images)\n",
    "gt, _ = load_mhd(path_to_gt_segmentations)\n",
    "nb_frames, width, height = bmode.shape"
   ]
  },
  {
   "cell_type": "code",
   "execution_count": null,
   "metadata": {
    "jupyter": {
     "outputs_hidden": false
    },
    "pycharm": {
     "name": "#%%\n"
    }
   },
   "outputs": [],
   "source": [
    "# Display the corresponding useful information\n",
    "print(f\"{type(bmode)=}\")\n",
    "print(f\"{bmode.dtype=}\")\n",
    "print(f\"{bmode.shape=}\")\n",
    "print('')\n",
    "\n",
    "print(f\"{type(gt)=}\")\n",
    "print(f\"{gt.dtype=}\")\n",
    "print(f\"{gt.shape=}\")"
   ]
  },
  {
   "cell_type": "code",
   "execution_count": null,
   "metadata": {
    "pycharm": {
     "name": "#%%\n"
    }
   },
   "outputs": [],
   "source": [
    "# Resize the ultrasound/segmentation pair to have isotropic voxelspacing\n",
    "bmode = np.array([resize_image_to_isotropic(bmode_2d, voxelspacing) for bmode_2d in bmode])\n",
    "gt = np.array([resize_image_to_isotropic(gt_2d, voxelspacing) for gt_2d in gt])"
   ]
  },
  {
   "cell_type": "code",
   "execution_count": null,
   "metadata": {
    "pycharm": {
     "name": "#%%\n"
    }
   },
   "outputs": [],
   "source": [
    "# Display the corresponding useful information\n",
    "print(f\"{type(bmode)=}\")\n",
    "print(f\"{bmode.dtype=}\")\n",
    "print(f\"{bmode.shape=}\")\n",
    "print('')\n",
    "\n",
    "print(f\"{type(gt)=}\")\n",
    "print(f\"{gt.dtype=}\")\n",
    "print(f\"{gt.shape=}\")"
   ]
  },
  {
   "cell_type": "code",
   "execution_count": null,
   "metadata": {
    "jupyter": {
     "outputs_hidden": false
    },
    "pycharm": {
     "name": "#%%\n"
    }
   },
   "outputs": [],
   "source": [
    "# Display the points on the corresponding image\n",
    "%matplotlib inline\n",
    "from matplotlib import pyplot as plt\n",
    "from matplotlib import animation\n",
    "from IPython.display import HTML\n",
    "\n",
    "px = 1/plt.rcParams['figure.dpi']  # pixel in inches\n",
    "\n",
    "fig = plt.figure(figsize=(width*px, height*px))\n",
    "bmode_im = plt.imshow(bmode[0], cmap='gray')\n",
    "gt_im = plt.imshow(np.ma.masked_where(gt[0] == 0, gt[0]), interpolation='none', cmap='jet', alpha=0.5)\n",
    "plt.axis(\"off\")\n",
    "plt.tight_layout()\n",
    "plt.close() # this is required to not display the generated image\n",
    "\n",
    "def init():\n",
    "    \"\"\"Function that initializes the first frame of the video\"\"\"\n",
    "    bmode_im.set_data(bmode[0])\n",
    "    gt_im.set_data(gt[0])\n",
    "\n",
    "def animate(frame_idx):\n",
    "    \"\"\"Callback that fetches the data for subsequent frames.\"\"\"\n",
    "    bmode_im.set_data(bmode[frame_idx])\n",
    "    gt_im.set_data(np.ma.masked_where(gt[frame_idx] == 0, gt[frame_idx]))\n",
    "    return bmode_im, gt_im\n",
    "\n",
    "interval = 5000 / nb_frames # Adjust delay between frames so that animation lasts 5 seconds\n",
    "anim = animation.FuncAnimation(fig, animate, init_func=init, frames=len(bmode), interval=interval)\n",
    "HTML(anim.to_html5_video())"
   ]
  }
 ],
 "metadata": {
  "kernelspec": {
   "display_name": "Python 3",
   "language": "python",
   "name": "python3"
  },
  "language_info": {
   "codemirror_mode": {
    "name": "ipython",
    "version": 2
   },
   "file_extension": ".py",
   "mimetype": "text/x-python",
   "name": "python",
   "nbconvert_exporter": "python",
   "pygments_lexer": "ipython2",
   "version": "2.7.6"
  }
 },
 "nbformat": 4,
 "nbformat_minor": 4
}
